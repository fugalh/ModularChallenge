{
 "cells": [
  {
   "attachments": {},
   "cell_type": "markdown",
   "metadata": {},
   "source": [
    "# Modular Challenge\n",
    "This is a simple way to mix things up and squeeze those creative juices a bit to explore new ways of using your modules.\n",
    "\n",
    "Instructions: \n",
    "1. [![Binder](https://mybinder.org/badge_logo.svg)](https://mybinder.org/v2/gh/fugalh/ModularChallenge.git/main?labpath=ModularChallenge.ipynb)\n",
    "1. Edit the `voices` box below so it contains your modules that can be core voices.\n",
    "2. Optionally, edit the `roles` box to suit your astrological sign\n",
    "3. Click on that restart button above — the fast-forward one ⏩\n",
    "5. Patch, jam, repeat\n",
    "\n",
    "Or hey, just roll some dice or write on some playing cards…"
   ]
  },
  {
   "cell_type": "code",
   "execution_count": 4,
   "metadata": {
    "tags": []
   },
   "outputs": [],
   "source": [
    "voices = \"\"\"\n",
    "Mother 32\n",
    "Plaits\n",
    "Clouds\n",
    "tELHARMONIC\n",
    "T-8\n",
    "OP-1\n",
    "\"\"\".strip().split(\"\\n\")"
   ]
  },
  {
   "cell_type": "code",
   "execution_count": 5,
   "metadata": {},
   "outputs": [],
   "source": [
    "roles = \"\"\"\n",
    "Rhythm\n",
    "Bass\n",
    "Harmonic Filler\n",
    "Melody\n",
    "\"\"\".strip().split(\"\\n\")"
   ]
  },
  {
   "cell_type": "code",
   "execution_count": 6,
   "metadata": {},
   "outputs": [
    {
     "name": "stdout",
     "output_type": "stream",
     "text": [
      "    Rhythm: tELHARMONIC\n",
      "    Bass: T-8\n",
      "    Harmonic Filler: Clouds\n",
      "    Melody: OP-1\n"
     ]
    }
   ],
   "source": [
    "# robots busily patching...\n",
    "import random\n",
    "random.shuffle(voices)\n",
    "for role,voice in zip(roles, voices):\n",
    "    print(f\"    {role}: {voice}\")"
   ]
  },
  {
   "attachments": {},
   "cell_type": "markdown",
   "metadata": {},
   "source": [
    "Go forth and patch. Don't forget to monetize it on YouTube!"
   ]
  }
 ],
 "metadata": {
  "kernelspec": {
   "display_name": "Python 3",
   "language": "python",
   "name": "python3"
  },
  "language_info": {
   "codemirror_mode": {
    "name": "ipython",
    "version": 3
   },
   "file_extension": ".py",
   "mimetype": "text/x-python",
   "name": "python",
   "nbconvert_exporter": "python",
   "pygments_lexer": "ipython3",
   "version": "3.10.9"
  },
  "orig_nbformat": 4,
  "vscode": {
   "interpreter": {
    "hash": "bc80afb9dcef4e3d4407cac1bf8e13ffe459484a0ae51ad2c06a74fa9787ca36"
   }
  }
 },
 "nbformat": 4,
 "nbformat_minor": 2
}
